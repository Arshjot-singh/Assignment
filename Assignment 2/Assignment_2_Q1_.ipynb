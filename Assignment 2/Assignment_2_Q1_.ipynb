{
  "nbformat": 4,
  "nbformat_minor": 0,
  "metadata": {
    "colab": {
      "provenance": [],
      "authorship_tag": "ABX9TyNzZQxKklUgsCGuR1pc+HkJ",
      "include_colab_link": true
    },
    "kernelspec": {
      "name": "python3",
      "display_name": "Python 3"
    },
    "language_info": {
      "name": "python"
    }
  },
  "cells": [
    {
      "cell_type": "markdown",
      "metadata": {
        "id": "view-in-github",
        "colab_type": "text"
      },
      "source": [
        "<a href=\"https://colab.research.google.com/github/Arshjot-singh/Assignments/blob/main/Assignment%202/Assignment_2_Q1_.ipynb\" target=\"_parent\"><img src=\"https://colab.research.google.com/assets/colab-badge.svg\" alt=\"Open In Colab\"/></a>"
      ]
    },
    {
      "cell_type": "code",
      "execution_count": 1,
      "metadata": {
        "id": "3v-Xh23CX59u"
      },
      "outputs": [],
      "source": [
        "#Q1\n",
        "import random as r\n",
        "import string \n",
        "no_of_lines = 1000\n",
        "string_length = 5\n",
        "\n",
        "with open('random_strings.txt','w') as file:\n",
        "  for i in range(no_of_lines):\n",
        "    random_string = ''.join(r.choices(string.ascii_letters + string.digits, k = string_length))\n",
        "    file.write(random_string + '\\n')\n",
        "     "
      ]
    }
  ]
}