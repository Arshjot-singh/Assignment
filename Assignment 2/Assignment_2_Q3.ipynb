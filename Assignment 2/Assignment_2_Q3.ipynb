{
  "nbformat": 4,
  "nbformat_minor": 0,
  "metadata": {
    "colab": {
      "provenance": [],
      "authorship_tag": "ABX9TyM79zi+vlRwH7WW+FBFw+/d",
      "include_colab_link": true
    },
    "kernelspec": {
      "name": "python3",
      "display_name": "Python 3"
    },
    "language_info": {
      "name": "python"
    }
  },
  "cells": [
    {
      "cell_type": "markdown",
      "metadata": {
        "id": "view-in-github",
        "colab_type": "text"
      },
      "source": [
        "<a href=\"https://colab.research.google.com/github/Arshjot-singh/Assignments/blob/main/Assignment%202/Assignment_2_Q3.ipynb\" target=\"_parent\"><img src=\"https://colab.research.google.com/assets/colab-badge.svg\" alt=\"Open In Colab\"/></a>"
      ]
    },
    {
      "cell_type": "code",
      "execution_count": null,
      "metadata": {
        "id": "Wyah6bTtaNfe"
      },
      "outputs": [],
      "source": [
        "#Q3\n",
        "import random as r\n",
        "import string as str\n",
        "\n",
        "file_size = 5*1024*1024\n",
        "num_files = 10\n",
        "\n",
        "for file_num in range(num_files):\n",
        "  file_name = f'random_strings_{file_num}.txt'\n",
        "\n",
        "  with open(file_name,'wb') as file:\n",
        "    while file.tell()< file_size:\n",
        "      random_string = ''.join(r.choices(str.ascii_letters + str.digits, k=10))\n",
        "      file.write(random_string.encode() + b'\\n')"
      ]
    }
  ]
}